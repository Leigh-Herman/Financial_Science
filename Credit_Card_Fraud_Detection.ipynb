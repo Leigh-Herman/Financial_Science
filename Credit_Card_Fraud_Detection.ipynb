{
  "nbformat": 4,
  "nbformat_minor": 0,
  "metadata": {
    "colab": {
      "name": "Credit Card Fraud Detection.ipynb",
      "provenance": [],
      "collapsed_sections": [],
      "toc_visible": true,
      "authorship_tag": "ABX9TyMQZG2bse8LZOwzVT6fWae5",
      "include_colab_link": true
    },
    "kernelspec": {
      "name": "python3",
      "display_name": "Python 3"
    },
    "language_info": {
      "name": "python"
    }
  },
  "cells": [
    {
      "cell_type": "markdown",
      "metadata": {
        "id": "view-in-github",
        "colab_type": "text"
      },
      "source": [
        "<a href=\"https://colab.research.google.com/github/Leigh-Herman/Credit-Card-Fraud-Detection-with-Python/blob/master/Credit_Card_Fraud_Detection.ipynb\" target=\"_parent\"><img src=\"https://colab.research.google.com/assets/colab-badge.svg\" alt=\"Open In Colab\"/></a>"
      ]
    },
    {
      "cell_type": "markdown",
      "source": [
        "# Credit Card Fraud Detection - A Case Study\n",
        "\n",
        "The case study is to implement a system that detects fraudulent purchases so that customers are not charged for something they did not purchase.\n",
        "\n",
        "Starting with a dataset containing transaction information, this program will differentiate between fraudulent and true transactions.\n",
        "\n",
        "The main way that this will work is through building Classification to predict discrete variables."
      ],
      "metadata": {
        "id": "VDO2NIMegFrZ"
      }
    },
    {
      "cell_type": "markdown",
      "source": [
        "## Steps Involved\n",
        "\n",
        "1. Importing the required packages into this python notebook environment.\n",
        "2. Import a dataset.\n",
        "3. Processing the data to the needs of the program and exploring data analysis - most likely using statistical inference\n",
        "4. Building different types of data classification models\n",
        "5. Evaluating the created classification models using relevant evaluation metrics\n",
        "\n",
        "This Classification technique is one way to build a Machine Learning program. Remember the AWS training module\n",
        "\n"
      ],
      "metadata": {
        "id": "sjoTV30Igw8s"
      }
    },
    {
      "cell_type": "markdown",
      "source": [
        "# Importing Packages\n",
        "\n",
        "Primary packages are:\n",
        "1. Pandas - data work\n",
        "2. Numpy - manipulate arrays\n",
        "3. scikit-learn - data split, building and evaluating the classification models\n",
        "4. xgboost - provides the xgboost classifier model algorithm"
      ],
      "metadata": {
        "id": "ABeMQm_hhsId"
      }
    },
    {
      "cell_type": "code",
      "source": [
        "import pandas as pd             # data processing\n",
        "import numpy as np              # working with arrays\n",
        "import matplotlib.pyplot as plt # visualization\n",
        "\n",
        "from termcolor import colored as cl # text customizations - will add more on this when implemented\n",
        "import itertools                    # advanced tools - will add more on this when implemented\n",
        "\n",
        "# scikit-learn packages\n",
        "from sklearn.preprocessing import StandardScaler      # data normalization\n",
        "from sklearn.model_selection import train_test_split # data split\n",
        "from sklearn.tree import DecisionTreeClassifier       # decision tree algorithm\n",
        "from sklearn.neighbors import KNeighborsClassifier    # KNN Algorithm - a part of StackSkills learning module yet to be completed\n",
        "from sklearn.linear_model import LogisticRegression   # logistic regression algorithm\n",
        "from sklearn.svm import SVC                           # SVM algorithm - more research into this needed\n",
        "from sklearn.ensemble import RandomForestClassifier   # Random forest algorithm\n",
        "\n",
        "from xgboost import XGBClassifier                     # xgboost algorithm - more research into this needed\n",
        "\n",
        "from sklearn.metrics import confusion_matrix          # evaluation metric\n",
        "from sklearn.metrics import accuracy_score            # evaluation metric\n",
        "from sklearn.metrics import f1_score                  # evaluation metric"
      ],
      "metadata": {
        "id": "rewMqNwHiNJX"
      },
      "execution_count": 48,
      "outputs": []
    },
    {
      "cell_type": "markdown",
      "source": [
        "# Importing Data\n",
        "\n",
        "The data set comes from the Kaggle Credit Card Fraud Detection dataset. I downloaded a Credit Card Fraud Detection data set that is from 2013 European card holders.\n",
        "\n",
        "Information in the dataset indicates that there are 492 frauds out of 284,807 transactions. \n",
        "\n",
        "Let's hope for the same outcome!"
      ],
      "metadata": {
        "id": "dh3YzC7fkX8J"
      }
    },
    {
      "cell_type": "markdown",
      "source": [
        "When using the Google Colab environment, to load files to use in code, we must first mount the google drive."
      ],
      "metadata": {
        "id": "-dTYx4yi8_4A"
      }
    },
    {
      "cell_type": "code",
      "source": [
        "# Run this cell to mount your Google Drive.\n",
        "from google.colab import drive\n",
        "drive.mount('/content/drive')"
      ],
      "metadata": {
        "colab": {
          "base_uri": "https://localhost:8080/"
        },
        "id": "Y9Gb8I278XBb",
        "outputId": "fac4de1a-717b-4f04-d59a-72d844337eb2"
      },
      "execution_count": 49,
      "outputs": [
        {
          "output_type": "stream",
          "name": "stdout",
          "text": [
            "Drive already mounted at /content/drive; to attempt to forcibly remount, call drive.mount(\"/content/drive\", force_remount=True).\n"
          ]
        }
      ]
    },
    {
      "cell_type": "markdown",
      "source": [
        "Then we can list all the files available from the mount"
      ],
      "metadata": {
        "id": "Na7a7cRt9JwA"
      }
    },
    {
      "cell_type": "code",
      "source": [
        "!ls \"/content/drive/My Drive/Colab Notebooks/Credit Card Fraud Detection\""
      ],
      "metadata": {
        "colab": {
          "base_uri": "https://localhost:8080/"
        },
        "id": "xWtlPlVA8iYV",
        "outputId": "c0de1a77-e77f-4f47-83f4-21b2446ab426"
      },
      "execution_count": 50,
      "outputs": [
        {
          "output_type": "stream",
          "name": "stdout",
          "text": [
            " archive.zip\t 'Credit Card Fraud Detection.ipynb'\n",
            " creditcard.csv   Credit_card_fraud_detection.py\n"
          ]
        }
      ]
    },
    {
      "cell_type": "markdown",
      "source": [
        "Now we can read in the data set csv file and remove the Time column since it will not be useful for this program. \n",
        "\n",
        "The remaining features will be 'Amount' which contains the total amount of money being transacted and the 'Class' feature which contains whether the transaction is fraud or not."
      ],
      "metadata": {
        "id": "H8U7tTr99NUA"
      }
    },
    {
      "cell_type": "code",
      "source": [
        "df = pd.read_csv(\"/content/drive/My Drive/Colab Notebooks/Credit Card Fraud Detection/creditcard.csv\")\n",
        "df.drop('Time', axis = 1, inplace = True)\n",
        "\n",
        "print(df.head())"
      ],
      "metadata": {
        "id": "5AK4Lw6rkK-Y",
        "colab": {
          "base_uri": "https://localhost:8080/"
        },
        "outputId": "62667b34-9d11-4d97-fbc6-8b386fdf6a55"
      },
      "execution_count": 51,
      "outputs": [
        {
          "output_type": "stream",
          "name": "stdout",
          "text": [
            "         V1        V2        V3        V4        V5        V6        V7  \\\n",
            "0 -1.359807 -0.072781  2.536347  1.378155 -0.338321  0.462388  0.239599   \n",
            "1  1.191857  0.266151  0.166480  0.448154  0.060018 -0.082361 -0.078803   \n",
            "2 -1.358354 -1.340163  1.773209  0.379780 -0.503198  1.800499  0.791461   \n",
            "3 -0.966272 -0.185226  1.792993 -0.863291 -0.010309  1.247203  0.237609   \n",
            "4 -1.158233  0.877737  1.548718  0.403034 -0.407193  0.095921  0.592941   \n",
            "\n",
            "         V8        V9       V10  ...       V21       V22       V23       V24  \\\n",
            "0  0.098698  0.363787  0.090794  ... -0.018307  0.277838 -0.110474  0.066928   \n",
            "1  0.085102 -0.255425 -0.166974  ... -0.225775 -0.638672  0.101288 -0.339846   \n",
            "2  0.247676 -1.514654  0.207643  ...  0.247998  0.771679  0.909412 -0.689281   \n",
            "3  0.377436 -1.387024 -0.054952  ... -0.108300  0.005274 -0.190321 -1.175575   \n",
            "4 -0.270533  0.817739  0.753074  ... -0.009431  0.798278 -0.137458  0.141267   \n",
            "\n",
            "        V25       V26       V27       V28  Amount  Class  \n",
            "0  0.128539 -0.189115  0.133558 -0.021053  149.62      0  \n",
            "1  0.167170  0.125895 -0.008983  0.014724    2.69      0  \n",
            "2 -0.327642 -0.139097 -0.055353 -0.059752  378.66      0  \n",
            "3  0.647376 -0.221929  0.062723  0.061458  123.50      0  \n",
            "4 -0.206010  0.502292  0.219422  0.215153   69.99      0  \n",
            "\n",
            "[5 rows x 30 columns]\n"
          ]
        }
      ]
    },
    {
      "cell_type": "markdown",
      "source": [
        "# Data Processing and Exploatory Data Analysis (EDA)\n",
        "\n",
        "We can look at how many fraud cases and non-fraud cases there are in the data set. We can calculate some percentages of fraud cases in the overall record."
      ],
      "metadata": {
        "id": "BsUsqydT9jlh"
      }
    },
    {
      "cell_type": "markdown",
      "source": [
        "## Count and Percentages"
      ],
      "metadata": {
        "id": "Q3_QRarO99iG"
      }
    },
    {
      "cell_type": "code",
      "source": [
        "cases = len(df)\n",
        "nonfraud_count = len(df[df.Class == 0])\n",
        "fraud_count = len(df[df.Class == 1])\n",
        "fraud_percentage = round(fraud_count/nonfraud_count * 100, 2)"
      ],
      "metadata": {
        "id": "IrTuTXi168hZ"
      },
      "execution_count": 52,
      "outputs": []
    },
    {
      "cell_type": "code",
      "source": [
        "print(cl('CASE COUNT', attrs = ['bold']))\n",
        "print(cl('--------------------------------------------------', attrs = ['bold']))\n",
        "print(cl('Total number of cases are {}'.format(cases), attrs = ['bold']))\n",
        "print(cl('Number of non-fraud cases are {}'.format(nonfraud_count), attrs = ['bold']))\n",
        "print(cl('Number of non-fraud cases are {}'.format(fraud_count), attrs = ['bold']))\n",
        "print(cl('Percentage of fraud cases is {}'.format(fraud_percentage), attrs = ['bold']))\n",
        "print(cl('--------------------------------------------------', attrs = ['bold']))"
      ],
      "metadata": {
        "colab": {
          "base_uri": "https://localhost:8080/"
        },
        "id": "eq-3fK5N-iOx",
        "outputId": "01949b3c-a123-4745-e341-203778090a73"
      },
      "execution_count": 53,
      "outputs": [
        {
          "output_type": "stream",
          "name": "stdout",
          "text": [
            "\u001b[1mCASE COUNT\u001b[0m\n",
            "\u001b[1m--------------------------------------------------\u001b[0m\n",
            "\u001b[1mTotal number of cases are 284807\u001b[0m\n",
            "\u001b[1mNumber of non-fraud cases are 284315\u001b[0m\n",
            "\u001b[1mNumber of non-fraud cases are 492\u001b[0m\n",
            "\u001b[1mPercentage of fraud cases is 0.17\u001b[0m\n",
            "\u001b[1m--------------------------------------------------\u001b[0m\n"
          ]
        }
      ]
    },
    {
      "cell_type": "markdown",
      "source": [
        "## Describe Method\n",
        "Next let's form a statistical view of the fraud and non-fraud cases suing the 'describe' method"
      ],
      "metadata": {
        "id": "5Q4jdXzN_oFz"
      }
    },
    {
      "cell_type": "code",
      "source": [
        "nonfraud_cases = df[df.Class == 0]\n",
        "fraud_cases = df[df.Class == 1]"
      ],
      "metadata": {
        "id": "elhHs18I_fJZ"
      },
      "execution_count": 54,
      "outputs": []
    },
    {
      "cell_type": "code",
      "source": [
        "print(cl('CASE AMOUNT STATISTICS', attrs = ['bold']))\n",
        "print(cl('--------------------------------------------------', attrs = ['bold']))\n",
        "print(cl('NON-FRAUD CASE AMOUNT STATS', attrs = ['bold']))\n",
        "print(nonfraud_cases.Amount.describe())\n",
        "print(cl('--------------------------------------------------', attrs = ['bold']))\n",
        "print(cl('FRAUD CASE AMOUNT STATS', attrs = ['bold']))\n",
        "print(fraud_cases.Amount.describe())\n",
        "print(cl('--------------------------------------------------', attrs = ['bold']))"
      ],
      "metadata": {
        "colab": {
          "base_uri": "https://localhost:8080/"
        },
        "id": "G0-SZZtrAAf2",
        "outputId": "3d70ffb4-f158-40cb-c736-7f8b6ac50dc0"
      },
      "execution_count": 55,
      "outputs": [
        {
          "output_type": "stream",
          "name": "stdout",
          "text": [
            "\u001b[1mCASE AMOUNT STATISTICS\u001b[0m\n",
            "\u001b[1m--------------------------------------------------\u001b[0m\n",
            "\u001b[1mNON-FRAUD CASE AMOUNT STATS\u001b[0m\n",
            "count    284315.000000\n",
            "mean         88.291022\n",
            "std         250.105092\n",
            "min           0.000000\n",
            "25%           5.650000\n",
            "50%          22.000000\n",
            "75%          77.050000\n",
            "max       25691.160000\n",
            "Name: Amount, dtype: float64\n",
            "\u001b[1m--------------------------------------------------\u001b[0m\n",
            "\u001b[1mFRAUD CASE AMOUNT STATS\u001b[0m\n",
            "count     492.000000\n",
            "mean      122.211321\n",
            "std       256.683288\n",
            "min         0.000000\n",
            "25%         1.000000\n",
            "50%         9.250000\n",
            "75%       105.890000\n",
            "max      2125.870000\n",
            "Name: Amount, dtype: float64\n",
            "\u001b[1m--------------------------------------------------\u001b[0m\n"
          ]
        }
      ]
    },
    {
      "cell_type": "markdown",
      "source": [
        "The statistical description for the 'Amount' variable is highly variable compared to the other variables. It can be normalized using the 'StandardScaler' method"
      ],
      "metadata": {
        "id": "7u6seFvtBINo"
      }
    },
    {
      "cell_type": "code",
      "source": [
        "sc = StandardScaler()\n",
        "amount = df['Amount'].values\n",
        "\n",
        "df['Amount'] = sc.fit_transform(amount.reshape(-1, 1))\n",
        "\n",
        "print(cl(df['Amount'].head(10), attrs = ['bold']))"
      ],
      "metadata": {
        "colab": {
          "base_uri": "https://localhost:8080/"
        },
        "id": "RUTxzoS7A1ZD",
        "outputId": "66358d77-5d3c-4c46-89b2-66e93b93bdb5"
      },
      "execution_count": 56,
      "outputs": [
        {
          "output_type": "stream",
          "name": "stdout",
          "text": [
            "\u001b[1m0    0.244964\n",
            "1   -0.342475\n",
            "2    1.160686\n",
            "3    0.140534\n",
            "4   -0.073403\n",
            "5   -0.338556\n",
            "6   -0.333279\n",
            "7   -0.190107\n",
            "8    0.019392\n",
            "9   -0.338516\n",
            "Name: Amount, dtype: float64\u001b[0m\n"
          ]
        }
      ]
    },
    {
      "cell_type": "markdown",
      "source": [
        "# Data Split\n",
        "\n",
        "We are going to define an independent variable (X) and the dependent variable (Y).\n",
        "\n",
        "USing these variables we can split the data into a training set and a testing set. The testing set will be sued for modeling and evaluating. We can split the data using the 'train_tets_split' algorithm"
      ],
      "metadata": {
        "id": "RRuEg3BzCac3"
      }
    },
    {
      "cell_type": "markdown",
      "source": [
        "Let us first define the variables"
      ],
      "metadata": {
        "id": "sVlut8y3Cy-F"
      }
    },
    {
      "cell_type": "code",
      "source": [
        "X = df.drop('Class', axis = 1).values\n",
        "y = df['Class'].values"
      ],
      "metadata": {
        "id": "m7OSlf-mB9bR"
      },
      "execution_count": 59,
      "outputs": []
    },
    {
      "cell_type": "markdown",
      "source": [
        "Set up as test and trainging variables"
      ],
      "metadata": {
        "id": "_-pdi-vXC_Vy"
      }
    },
    {
      "cell_type": "code",
      "source": [
        "X_train, X_test, y_train, y_test = train_test_split(X, y, test_size = 0.2, random_state = 0)"
      ],
      "metadata": {
        "id": "gLbbEwgAC7Rj"
      },
      "execution_count": 60,
      "outputs": []
    },
    {
      "cell_type": "code",
      "source": [
        "print(cl('X_train samples : ', attrs = ['bold']), X_train[:1])\n",
        "print(cl('X_test samples : ', attrs = ['bold']), X_test[0:1])\n",
        "print(cl('y_train samples : ', attrs = ['bold']), y_train[0:10])\n",
        "print(cl('y_test samples : ', attrs = ['bold']), y_test[0:10])"
      ],
      "metadata": {
        "colab": {
          "base_uri": "https://localhost:8080/"
        },
        "id": "-cn4ahBkDQcv",
        "outputId": "83d2addd-87ec-409f-fd2d-2eb92f65db91"
      },
      "execution_count": 62,
      "outputs": [
        {
          "output_type": "stream",
          "name": "stdout",
          "text": [
            "\u001b[1mX_train samples : \u001b[0m [[-1.11504743  1.03558276  0.80071244 -1.06039825  0.03262117  0.85342216\n",
            "  -0.61424348 -3.23116112  1.53994798 -0.81690879 -1.30559201  0.1081772\n",
            "  -0.85960958 -0.07193421  0.90665563 -1.72092961  0.79785322 -0.0067594\n",
            "   1.95677806 -0.64489556  3.02038533 -0.53961798  0.03315649 -0.77494577\n",
            "   0.10586781 -0.43085348  0.22973694 -0.0705913  -0.30145418]]\n",
            "\u001b[1mX_test samples : \u001b[0m [[-0.32333357  1.05745525 -0.04834115 -0.60720431  1.25982115 -0.09176072\n",
            "   1.1591015  -0.12433461 -0.17463954 -1.64440065 -1.11886302  0.20264731\n",
            "   1.14596495 -1.80235956 -0.24717793 -0.06094535  0.84660574  0.37945439\n",
            "   0.84726224  0.18640942 -0.20709827 -0.43389027 -0.26161328 -0.04665061\n",
            "   0.2115123   0.00829721  0.10849443  0.16113917 -0.19330595]]\n",
            "\u001b[1my_train samples : \u001b[0m [0 0 0 0 0 0 0 0 0 0]\n",
            "\u001b[1my_test samples : \u001b[0m [0 0 0 0 0 0 0 0 0 0]\n"
          ]
        }
      ]
    },
    {
      "cell_type": "markdown",
      "source": [
        "# Modeling\n",
        "\n",
        "We will build six different classification models.\n",
        "1. Decision Tree\n",
        "2. K-Nearest Neighbours (KNN)\n",
        "3. Logistical Regression\n",
        "4. Support Vector Machine (SVM)\n",
        "5. Random Forest\n",
        "6. XGBoost\n",
        "\n",
        "*********More research has to be done in each of these methods*****************\n",
        "\n",
        "Each can be built easily using the scikit-learn package. Only the XGBoost model must use the xgboost package."
      ],
      "metadata": {
        "id": "osGtxdLFEdwX"
      }
    },
    {
      "cell_type": "markdown",
      "source": [
        "## Decision Tree\n",
        "\n",
        "This model uses the 'DecisionTreeClassifier' algorithm to build the model. \n",
        "\n",
        "The model has been split 4 times using 'max_depth' with the 'criterion' being set as 'entropy' which is similar to 'max_depth' but determines when the tree stops splitting.\n",
        "\n",
        "Finally, the data is fitted and the predicted values is stored into 'tree_yhat' variable. "
      ],
      "metadata": {
        "id": "dMV3XkIbFRAU"
      }
    },
    {
      "cell_type": "code",
      "source": [
        "tree_model = DecisionTreeClassifier(max_depth = 4, criterion = 'entropy')\n",
        "tree_model.fit(X_train, y_train)\n",
        "tree_yhat = tree_model.predict(X_test)"
      ],
      "metadata": {
        "id": "Z8enjig7EFwh"
      },
      "execution_count": 64,
      "outputs": []
    },
    {
      "cell_type": "markdown",
      "source": [
        "## KNN\n",
        "\n",
        "This model is built using the 'KNearestNeighbor' algorithm and the 'n_neighbors' is set to 5. The value of 'n_neighbors' is randomly sleected but can be chosen optomistically thorugh iterating a range of values followed by fitting and storing predicted values into the 'knn_yhat' variable."
      ],
      "metadata": {
        "id": "2vCVPx8FF79g"
      }
    },
    {
      "cell_type": "code",
      "source": [
        "n = 5\n",
        "\n",
        "knn = KNeighborsClassifier(n_neighbors = n)\n",
        "knn.fit(X_train, y_train)\n",
        "knn_yhat = knn.predict(X_test)"
      ],
      "metadata": {
        "id": "e0-UNfSaHzan"
      },
      "execution_count": 65,
      "outputs": []
    },
    {
      "cell_type": "markdown",
      "source": [
        "## Logistic Regression\n",
        "\n",
        "This is kept simple using the 'LogisticRegression' algorithm. The data is fitted and then we store the predicted variables in the 'lr_yhat' variable. "
      ],
      "metadata": {
        "id": "HswzYxGJH2Hc"
      }
    },
    {
      "cell_type": "code",
      "source": [
        "lr = LogisticRegression()\n",
        "lr.fit(X_train, y_train)\n",
        "lr_yhat = lr.predict(X_test)"
      ],
      "metadata": {
        "id": "GJsuvF0QILBm"
      },
      "execution_count": 67,
      "outputs": []
    },
    {
      "cell_type": "markdown",
      "source": [
        "## Support Vector Machine\n",
        "\n",
        "The SVC algorithm is used which is used here with the default kernal 'rbf'. After that the predicted values are stored in 'svm_yhat' after the data is fitted."
      ],
      "metadata": {
        "id": "_w2SJ8H7ILs6"
      }
    },
    {
      "cell_type": "code",
      "source": [
        "svm = SVC()\n",
        "svm.fit(X_train, y_train)\n",
        "svm_yhat = svm.predict(X_test)"
      ],
      "metadata": {
        "id": "dT0RrzVqIatC"
      },
      "execution_count": 68,
      "outputs": []
    },
    {
      "cell_type": "markdown",
      "source": [
        "## Random Forest\n",
        "\n",
        "This model is built using the 'RandomForestClassifier' algorithm and the 'max_deoth' is set to 4 just like the decision tree splitting. \n",
        "\n",
        "Fitting and storing the predicted values into 'rf_yhat'.\n",
        "\n",
        "The main decision between decision tree and random forest is that, decision tree uses the entire data set to construct a single model while random forest uses randomly slected features to construct multiple models. "
      ],
      "metadata": {
        "id": "-Nb-K63DIc6j"
      }
    },
    {
      "cell_type": "code",
      "source": [
        "rf = RandomForestClassifier(max_depth = 4)\n",
        "rf.fit(X_train, y_train)\n",
        "rf_yhat = rf.predict(X_test)"
      ],
      "metadata": {
        "id": "UfZGbqsWI__L"
      },
      "execution_count": 69,
      "outputs": []
    },
    {
      "cell_type": "markdown",
      "source": [
        "## XGBoost\n",
        "\n",
        "This model uses the 'XGBClassifier' algorithm from the xgboost package. The 'max_depth' is again set to 4 and after the data is fitted, the predicted values are stored in 'xgb_yhat'."
      ],
      "metadata": {
        "id": "7DH2UxIIJAd8"
      }
    },
    {
      "cell_type": "code",
      "source": [
        "xgb = XGBClassifier(max_depth = 4)\n",
        "xgb.fit(X_train, y_train)\n",
        "xgb_yhat = xgb.predict(X_test)"
      ],
      "metadata": {
        "id": "CkMTxiZZJSQi"
      },
      "execution_count": 71,
      "outputs": []
    },
    {
      "cell_type": "markdown",
      "source": [
        "# Evaluation\n",
        "\n",
        "We evaluate each of our models using evaluation metrics provided by the scikit-learn package with the goal of finding the best model for our case study.\n",
        "\n",
        "The evaluation metrics are\n",
        "1. Accuracy Score\n",
        "2. f1 score metric\n",
        "3. Confusion matrix"
      ],
      "metadata": {
        "id": "W09haKHkSh7i"
      }
    },
    {
      "cell_type": "markdown",
      "source": [
        "## Accuracy Score\n",
        "\n",
        "A basic evaluation metric which is widely used to evaluate classification models. The accuracy score is calculated by dividing the number of predictions made by the model by the total number of predictions and we can also multiply by 100 to make this a percentage.\n",
        "\n",
        "Let's now find and express the accuracy score for each model using the 'accuracy_score' method provided in scikit-learn."
      ],
      "metadata": {
        "id": "Z0pfkeXkTEog"
      }
    },
    {
      "cell_type": "code",
      "source": [
        "print(cl('ACCURACY SCORE', attrs = ['bold']))\n",
        "print(cl('----------------------------------------------------------------------', attrs = ['bold']))\n",
        "print(cl('Accuracy score of the Decision Tree model is : {}'.format(accuracy_score(y_test, tree_yhat)), attrs = ['bold']))\n",
        "print(cl('----------------------------------------------------------------------', attrs = ['bold']))\n",
        "print(cl('Accuracy of the KNN model is : {}'.format(accuracy_score(y_test, knn_yhat)), attrs = ['bold'], color = 'green'))\n",
        "print(cl('----------------------------------------------------------------------', attrs = ['bold']))\n",
        "print(cl('Accuracy of the Logistic Regression is : {}'.format(accuracy_score(y_test, lr_yhat)), attrs = ['bold'], color='red'))\n",
        "print(cl('----------------------------------------------------------------------', attrs = ['bold']))\n",
        "print(cl('Accuracy of the SVM Model is : {}'.format(accuracy_score(y_test, svm_yhat)), attrs = ['bold']))\n",
        "print(cl('----------------------------------------------------------------------', attrs = ['bold']))\n",
        "print(cl('Accuracy of the Random Forest model is : {}'.format(accuracy_score(y_test, rf_yhat)), attrs = ['bold']))\n",
        "print(cl('----------------------------------------------------------------------', attrs = ['bold']))\n",
        "print(cl('Accuracy of the XGBoost model is : {}'.format(accuracy_score(y_test, xgb_yhat)), attrs = ['bold']))\n",
        "print(cl('----------------------------------------------------------------------', attrs = ['bold']))"
      ],
      "metadata": {
        "colab": {
          "base_uri": "https://localhost:8080/"
        },
        "id": "WPk5pm6lS9Ux",
        "outputId": "255d68d3-1794-430b-968d-08b040303962"
      },
      "execution_count": 74,
      "outputs": [
        {
          "output_type": "stream",
          "name": "stdout",
          "text": [
            "\u001b[1mACCURACY SCORE\u001b[0m\n",
            "\u001b[1m----------------------------------------------------------------------\u001b[0m\n",
            "\u001b[1mAccuracy score of the Decision Tree model is : 0.9993679997191109\u001b[0m\n",
            "\u001b[1m----------------------------------------------------------------------\u001b[0m\n",
            "\u001b[1m\u001b[32mAccuracy of the KNN model is : 0.9995259997893332\u001b[0m\n",
            "\u001b[1m----------------------------------------------------------------------\u001b[0m\n",
            "\u001b[1m\u001b[31mAccuracy of the Logistic Regression is : 0.9991924440855307\u001b[0m\n",
            "\u001b[1m----------------------------------------------------------------------\u001b[0m\n",
            "\u001b[1mAccuracy of the SVM Model is : 0.9993153330290369\u001b[0m\n",
            "\u001b[1m----------------------------------------------------------------------\u001b[0m\n",
            "\u001b[1mAccuracy of the Random Forest model is : 0.9993153330290369\u001b[0m\n",
            "\u001b[1m----------------------------------------------------------------------\u001b[0m\n",
            "\u001b[1mAccuracy of the XGBoost model is : 0.9994733330992591\u001b[0m\n",
            "\u001b[1m----------------------------------------------------------------------\u001b[0m\n"
          ]
        }
      ]
    },
    {
      "cell_type": "markdown",
      "source": [
        "We can see and have highlighted the worst and best accuracy models."
      ],
      "metadata": {
        "id": "OwUVkeL3kALF"
      }
    },
    {
      "cell_type": "markdown",
      "source": [
        "## F1 Score Metric\n",
        "\n",
        "The F1 or F-score metric is the most popular metric to evaluate classification models. It is simply a harmonic mean of the model's precision and recall. It is calculated by dividing the product of the model's precision and recall by the value obtained by adding the model's precision and recall and then finally multiplying the result by two."
      ],
      "metadata": {
        "id": "-hNNo-9mkE8L"
      }
    },
    {
      "cell_type": "code",
      "source": [
        "print(cl('F1 Score', attrs = ['bold']))\n",
        "print(cl('----------------------------------------------------------------------', attrs = ['bold']))\n",
        "print(cl('F1 Score of the Decision Tree model is : {}'.format(f1_score(y_test, tree_yhat)), attrs = ['bold']))\n",
        "print(cl('----------------------------------------------------------------------', attrs = ['bold']))\n",
        "print(cl('F1 Score of the KNN model is : {}'.format(f1_score(y_test, knn_yhat)), attrs = ['bold'], color = 'green'))\n",
        "print(cl('----------------------------------------------------------------------', attrs = ['bold']))\n",
        "print(cl('F1 Score of the Logistic Regression is : {}'.format(f1_score(y_test, lr_yhat)), attrs = ['bold'], color='red'))\n",
        "print(cl('----------------------------------------------------------------------', attrs = ['bold']))\n",
        "print(cl('F1 Score of the SVM Model is : {}'.format(f1_score(y_test, svm_yhat)), attrs = ['bold']))\n",
        "print(cl('----------------------------------------------------------------------', attrs = ['bold']))\n",
        "print(cl('F1 Score of the Random Forest model is : {}'.format(f1_score(y_test, rf_yhat)), attrs = ['bold']))\n",
        "print(cl('----------------------------------------------------------------------', attrs = ['bold']))\n",
        "print(cl('F1 Score of the XGBoost model is : {}'.format(f1_score(y_test, xgb_yhat)), attrs = ['bold']))\n",
        "print(cl('----------------------------------------------------------------------', attrs = ['bold']))"
      ],
      "metadata": {
        "colab": {
          "base_uri": "https://localhost:8080/"
        },
        "id": "lVT1EpBWjX98",
        "outputId": "f3340e4d-77ff-46f4-a499-bc1349902f69"
      },
      "execution_count": 75,
      "outputs": [
        {
          "output_type": "stream",
          "name": "stdout",
          "text": [
            "\u001b[1mF1 Score\u001b[0m\n",
            "\u001b[1m----------------------------------------------------------------------\u001b[0m\n",
            "\u001b[1mF1 Score of the Decision Tree model is : 0.8105263157894738\u001b[0m\n",
            "\u001b[1m----------------------------------------------------------------------\u001b[0m\n",
            "\u001b[1m\u001b[32mF1 Score of the KNN model is : 0.8571428571428572\u001b[0m\n",
            "\u001b[1m----------------------------------------------------------------------\u001b[0m\n",
            "\u001b[1m\u001b[31mF1 Score of the Logistic Regression is : 0.7356321839080459\u001b[0m\n",
            "\u001b[1m----------------------------------------------------------------------\u001b[0m\n",
            "\u001b[1mF1 Score of the SVM Model is : 0.7771428571428572\u001b[0m\n",
            "\u001b[1m----------------------------------------------------------------------\u001b[0m\n",
            "\u001b[1mF1 Score of the Random Forest model is : 0.7796610169491525\u001b[0m\n",
            "\u001b[1m----------------------------------------------------------------------\u001b[0m\n",
            "\u001b[1mF1 Score of the XGBoost model is : 0.8421052631578948\u001b[0m\n",
            "\u001b[1m----------------------------------------------------------------------\u001b[0m\n"
          ]
        }
      ]
    },
    {
      "cell_type": "markdown",
      "source": [
        "We have highlighted the worst and best f1 scores which are the same results as the Accuracy Score."
      ],
      "metadata": {
        "id": "DpHyzah4lHej"
      }
    },
    {
      "cell_type": "markdown",
      "source": [
        "## Confusion Matrix\n",
        "\n",
        "A confusion matrix is a visualization of a classification that shows how well the model has predicted the outcomes compared to the original outcomes.\n",
        "\n",
        "The predicted outcomes are stored in a variable which is converted into a correlation table. Using this correlation table, the confusion matrix is plotted as a heatmap.\n",
        "\n",
        "To better understand this method, we will construct it from scratch."
      ],
      "metadata": {
        "id": "xBCrKw6DlSI2"
      }
    },
    {
      "cell_type": "markdown",
      "source": [
        "### Defining the plot function"
      ],
      "metadata": {
        "id": "ABX7ABOWl_H3"
      }
    },
    {
      "cell_type": "code",
      "source": [
        "def plot_confusion_matrix(cm, classes, title, normalize = False, cmap = plt.cm.Blues):\n",
        "  title = 'Confusion Matrix of {}'.format(title)\n",
        "\n",
        "  if normalize:\n",
        "    cm = cm.astype(float) / cm.sum(axis = 1)[:, np.newaxis]\n",
        "\n",
        "  plt.imshow(cm, interpolation = 'nearest', cmap = cmap)\n",
        "  plt.title(title)\n",
        "  plt.colorbar()\n",
        "  tick_marks = np.arange(len(classes))\n",
        "  plt.xticks(tick_marks, classes, rotation = 45)\n",
        "  plt.yticks(tick_marks, classes)\n",
        "\n",
        "  fmt = '.2f' if normalize else 'd'\n",
        "  thresh = cm.max() / 2.\n",
        "\n",
        "  for i, j in itertools.product(range(cm.shape[0]), range(cm.shape[1])):\n",
        "    plt.text(j, i, format(cm[i, j], fmt),\n",
        "             horizontalalignment = 'center',\n",
        "             color = 'white' if cm[i, j] > thresh else 'black')\n",
        "    \n",
        "  plt.tight_layout()\n",
        "  plt.ylabel('True Label')\n",
        "  plt.xlabel('Predicted Label')"
      ],
      "metadata": {
        "id": "p5twMZqLk-8H"
      },
      "execution_count": 116,
      "outputs": []
    },
    {
      "cell_type": "markdown",
      "source": [
        "### Computer the confusion matrix for each of the models"
      ],
      "metadata": {
        "id": "GxniqRBxnlcy"
      }
    },
    {
      "cell_type": "code",
      "source": [
        "tree_matrix = confusion_matrix(y_test, tree_yhat, labels = [0, 1])  # Decision Tree\n",
        "knn_matrix = confusion_matrix(y_test, knn_yhat, labels = [0, 1])  # K-Nearest Neighbour\n",
        "lr_matrix = confusion_matrix(y_test, lr_yhat, labels = [0, 1])  # Logistic Regression\n",
        "svm_matrix = confusion_matrix(y_test, svm_yhat, labels = [0, 1])  # Support Vector MAchine\n",
        "rf_matrix = confusion_matrix(y_test, rf_yhat, labels = [0, 1])  # Random Forest\n",
        "xgb_matrix = confusion_matrix(y_test, xgb_yhat, labels = [0, 1])  # XGBoost"
      ],
      "metadata": {
        "id": "4ujM5aOmniQ7"
      },
      "execution_count": 117,
      "outputs": []
    },
    {
      "cell_type": "markdown",
      "source": [
        "### Plot the confusion matrix\n",
        "\n",
        "Plot the confustion matrix for each model"
      ],
      "metadata": {
        "id": "ourji0-GoZNa"
      }
    },
    {
      "cell_type": "code",
      "source": [
        "plt.rcParams['figure.figsize'] = (6, 6)"
      ],
      "metadata": {
        "id": "xqxpSyQVoOvh"
      },
      "execution_count": 118,
      "outputs": []
    },
    {
      "cell_type": "code",
      "source": [
        "# Decision Tree\n",
        "\n",
        "tree_cm_plot = plot_confusion_matrix(tree_matrix, classes = ['Non-Default(0)', 'Default(1)'], normalize = False, title = 'Decision Tree')\n",
        "\n",
        "plt.savefig('tree_cm_plot.png')\n",
        "plt.show()"
      ],
      "metadata": {
        "colab": {
          "base_uri": "https://localhost:8080/",
          "height": 428
        },
        "id": "R2j4U1V6oizk",
        "outputId": "f988fd8a-f200-4206-9c5f-242555effdbe"
      },
      "execution_count": 123,
      "outputs": [
        {
          "output_type": "display_data",
          "data": {
            "text/plain": [
              "<Figure size 432x432 with 2 Axes>"
            ],
            "image/png": "[encoded data removed]"
          },
          "metadata": {
            "needs_background": "light"
          }
        }
      ]
    },
    {
      "cell_type": "code",
      "source": [
        "# K-Nearest Neighbour\n",
        "\n",
        "knn_cm_plot = plot_confusion_matrix(knn_matrix, classes = ['Non-Default(0)', 'Default(1)'], normalize = False, title = 'K-Nearest Neighbour')\n",
        "\n",
        "plt.savefig('knn_cm_plot.png')\n",
        "plt.show()"
      ],
      "metadata": {
        "colab": {
          "base_uri": "https://localhost:8080/",
          "height": 428
        },
        "id": "Mrt61Uj1pBZg",
        "outputId": "1d9f883a-c397-4850-9284-9a696ef4e37e"
      },
      "execution_count": 124,
      "outputs": [
        {
          "output_type": "display_data",
          "data": {
            "text/plain": [
              "<Figure size 432x432 with 2 Axes>"
            ],
            "image/png": "[encoded data removed]"
          },
          "metadata": {
            "needs_background": "light"
          }
        }
      ]
    },
    {
      "cell_type": "code",
      "source": [
        "# Logistic Regression\n",
        "\n",
        "lr_cm_plot = plot_confusion_matrix(lr_matrix, classes = ['Non-Default(0)', 'Default(1)'], normalize = False, title = 'Logistic Regression')\n",
        "\n",
        "plt.savefig('lr_cm_plot.png')\n",
        "plt.show()"
      ],
      "metadata": {
        "colab": {
          "base_uri": "https://localhost:8080/",
          "height": 428
        },
        "id": "pGnXTpP6-5ro",
        "outputId": "d09087d7-82cd-4664-c5a2-7740488bc436"
      },
      "execution_count": 125,
      "outputs": [
        {
          "output_type": "display_data",
          "data": {
            "text/plain": [
              "<Figure size 432x432 with 2 Axes>"
            ],
            "image/png": "[encoded data removed]"
          },
          "metadata": {
            "needs_background": "light"
          }
        }
      ]
    },
    {
      "cell_type": "code",
      "source": [
        "# Support Vector Machine\n",
        "\n",
        "svm_cm_plot = plot_confusion_matrix(svm_matrix, classes = ['Non-Default(0)', 'Default(1)'], normalize = False, title = 'Support Vector Machine')\n",
        "\n",
        "plt.savefig('svm_cm_plot.png')\n",
        "plt.show()"
      ],
      "metadata": {
        "colab": {
          "base_uri": "https://localhost:8080/",
          "height": 428
        },
        "id": "26gnPhDk_BOO",
        "outputId": "df3ded31-4485-42ec-f1a5-fded4aca39ae"
      },
      "execution_count": 126,
      "outputs": [
        {
          "output_type": "display_data",
          "data": {
            "text/plain": [
              "<Figure size 432x432 with 2 Axes>"
            ],
            "image/png": "[encoded data removed]"
          },
          "metadata": {
            "needs_background": "light"
          }
        }
      ]
    },
    {
      "cell_type": "code",
      "source": [
        "# Random Forest\n",
        "\n",
        "rf_cm_plot = plot_confusion_matrix(rf_matrix, classes = ['Non-Default(0)', 'Default(1)'], normalize = False, title = 'Random Forest')\n",
        "\n",
        "plt.savefig('rf_cm_plot.png')\n",
        "plt.show()"
      ],
      "metadata": {
        "colab": {
          "base_uri": "https://localhost:8080/",
          "height": 428
        },
        "id": "OHl39q28_JRE",
        "outputId": "145408fd-11a7-40bb-99a8-717244e312c6"
      },
      "execution_count": 127,
      "outputs": [
        {
          "output_type": "display_data",
          "data": {
            "text/plain": [
              "<Figure size 432x432 with 2 Axes>"
            ],
            "image/png": "[encoded data removed]"
          },
          "metadata": {
            "needs_background": "light"
          }
        }
      ]
    },
    {
      "cell_type": "code",
      "source": [
        "# XGBoost\n",
        "\n",
        "xgb_cm_plot = plot_confusion_matrix(xgb_matrix, classes = ['Non-Default(0)', 'Default(1)'], normalize = False, title = 'XGBoost')\n",
        "\n",
        "plt.savefig('xgb_cm_plot.png')\n",
        "plt.show()"
      ],
      "metadata": {
        "colab": {
          "base_uri": "https://localhost:8080/",
          "height": 428
        },
        "id": "M70hITVQ_SD_",
        "outputId": "ba94e1e1-8f16-4eb7-8b76-9227cd424a34"
      },
      "execution_count": 128,
      "outputs": [
        {
          "output_type": "display_data",
          "data": {
            "text/plain": [
              "<Figure size 432x432 with 2 Axes>"
            ],
            "image/png": "[encoded data removed]"
          },
          "metadata": {
            "needs_background": "light"
          }
        }
      ]
    },
    {
      "cell_type": "markdown",
      "source": [
        "### Understanding the Confusion Matrix.\n",
        "\n",
        "Let's try not to make this confusing. I'll be here all night, tip your waiter.\n",
        "\n",
        "Looking at the XGBoost model as an example, we first look at the first row. The first row is for transactions whose actual fraud value in the test set is 0. As we calculated, the fraud value of 56861 of the transactions is 0 and out of these transactions, the classification method predicted 56852 of them as 0 and 9 of them as 1. That means that for 86852 non-fraud transactions, the actual churn value was 0 in the test set and the classifier also correctly predicted those as 0. So this model worked quite well.\n",
        "\n",
        "Now to interpret the second row. There were 101 transactions whose fraud value were 1. The classifier correctly predicted 80 of them as 1 and 21 of them are to be considered as error of the model.\n",
        "\n",
        "In this way we can say that the error was the lowest for KNN followed by the XGBoost method. So we would want to use the XGBoost model versus not using the Logistic Regression method which had the worst error of 37."
      ],
      "metadata": {
        "id": "TZNqgR19_cNC"
      }
    },
    {
      "cell_type": "markdown",
      "source": [
        "# Conclusion\n",
        "\n",
        "Well, after following the program created by Nikhil Adithyan, github.com/Nikhil-Adithyan, we have successfully built a famous financial project with six different classification models, evaluated the models with evaluation metrics, and chosen which is the best model to use, KNN which had the best Accuracy Score, F1 Score, and lowest error expressed in the Confusion Matrix heatmap.\n",
        "\n",
        "Next would be to find more models, access Kaggle for other data sets, increase my Machine Learning experience and be pleasently surprised that all those statistic courses might actually be uselful!!"
      ],
      "metadata": {
        "id": "VuJOZvyZCE5Q"
      }
    },
    {
      "cell_type": "code",
      "source": [
        ""
      ],
      "metadata": {
        "id": "QCFiEyrW_Z23"
      },
      "execution_count": null,
      "outputs": []
    }
  ]
}